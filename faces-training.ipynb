{
 "cells": [
  {
   "cell_type": "code",
   "execution_count": 25,
   "metadata": {},
   "outputs": [
    {
     "name": "stdout",
     "output_type": "stream",
     "text": [
      "New person: Kostya\n",
      "Adding face: photo_2017-08-17_12-45-35.jpg\n",
      "New person: Stas\n",
      "Adding face: 3.jpg\n",
      "Adding face: 2.jpg\n",
      "Adding face: 1.jpg\n",
      "Adding face: 4.jpg\n",
      "New person: Sergey\n",
      "Adding face: photo_2017-05-25_21-54-22.jpg\n",
      "New person: Anton\n",
      "Adding face: photo_2017-06-12_13-32-44.jpg\n",
      "New person: Ivan\n",
      "Adding face: photo_2016-11-13_13-30-48.jpg\n",
      "{'status': 'succeeded', 'createdDateTime': '4/18/2018 2:10:17 PM', 'lastActionDateTime': '04/18/2018 14:10:17', 'message': None}\n"
     ]
    }
   ],
   "source": [
    "import cognitive_face as CF\n",
    "import os\n",
    "import logging\n",
    "logging.captureWarnings(True)\n",
    "\n",
    "KEY = '543b769e7f55400c9ef8cf67896ed6a4'  # Replace with a valid subscription key (keeping the quotes in place).\n",
    "CF.Key.set(KEY)\n",
    "\n",
    "BASE_URL = 'https://westcentralus.api.cognitive.microsoft.com/face/v1.0'  # Replace with your regional Base URL\n",
    "CF.BaseUrl.set(BASE_URL)\n",
    "\n",
    "group_id = \"rabbits\"\n",
    "try:\n",
    "    CF.person_group.delete(group_id)\n",
    "except CF.CognitiveFaceException as e:\n",
    "    print(\"Group does not exist\")\n",
    "\n",
    "CF.person_group.create(group_id, \"White Lab Rabbits\")\n",
    "\n",
    "# each folder in Data/PAI/training is a person name\n",
    "# the folder contains his photos (face only)\n",
    "with os.scandir(\"Data/PAI/training\") as it:\n",
    "    for p_dir in it:\n",
    "        if p_dir.is_dir():\n",
    "            name = p_dir.name\n",
    "            print(\"New person: \" + name)\n",
    "            person = CF.person.create(group_id, name)['personId']\n",
    "            with os.scandir(p_dir) as p_it:\n",
    "                for img in p_it:\n",
    "                    if img.is_file() and img.name.lower().endswith(\".jpg\"):\n",
    "                        print(\"Adding face: \" + img.name)\n",
    "                        CF.person.add_face(img, group_id, person)\n",
    "\n",
    "\n",
    "CF.person_group.train(group_id)\n",
    "status = CF.person_group.get_status(group_id)\n",
    "print(status)"
   ]
  },
  {
   "cell_type": "code",
   "execution_count": 26,
   "metadata": {},
   "outputs": [
    {
     "name": "stdout",
     "output_type": "stream",
     "text": [
      "[{'personId': '44cd0295-56f5-43e1-bea0-d38563cf2bd7', 'persistedFaceIds': ['79603eb9-cf43-42f6-b5e6-b521ccea9f97'], 'name': 'Ivan', 'userData': None}, {'personId': '7f5c201a-b52f-46ee-b1bf-6fc415f03572', 'persistedFaceIds': ['6f79ea97-40d9-455a-84bc-a3e962dd0b81'], 'name': 'Sergey', 'userData': None}, {'personId': '83d3a84a-1448-4bd7-832f-87a4d4551a26', 'persistedFaceIds': ['7f099f4b-1caa-4a0b-8882-949a21fc7667'], 'name': 'Kostya', 'userData': None}, {'personId': 'd0c28da6-cf03-4f4e-9cb3-990341980e26', 'persistedFaceIds': ['61e9445c-7406-45e4-81eb-3589086d49c1'], 'name': 'Anton', 'userData': None}, {'personId': 'd1751d79-11d9-4c0f-a235-c9303ac61ce4', 'persistedFaceIds': ['4015f251-ec6f-4bfd-8996-07a50ca9a69f', '6deb47e0-e0ba-42d5-be17-e44f133a9723', 'f77c7fe2-c46e-43bc-9041-8525dfa1f288', 'f873e352-471c-4974-8913-a055d59b7da1'], 'name': 'Stas', 'userData': None}]\n"
     ]
    }
   ],
   "source": [
    "print(CF.person.lists(group_id))"
   ]
  }
 ],
 "metadata": {
  "kernelspec": {
   "display_name": "Python 3",
   "language": "python",
   "name": "python3"
  },
  "language_info": {
   "codemirror_mode": {
    "name": "ipython",
    "version": 3
   },
   "file_extension": ".py",
   "mimetype": "text/x-python",
   "name": "python",
   "nbconvert_exporter": "python",
   "pygments_lexer": "ipython3",
   "version": "3.6.4"
  }
 },
 "nbformat": 4,
 "nbformat_minor": 2
}
