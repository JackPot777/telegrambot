{
 "cells": [
  {
   "cell_type": "code",
   "execution_count": 38,
   "metadata": {},
   "outputs": [
    {
     "name": "stdout",
     "output_type": "stream",
     "text": [
      "{'status': 'succeeded', 'createdDateTime': '4/18/2018 1:16:25 PM', 'lastActionDateTime': '04/18/2018 13:16:25', 'message': None}\n"
     ]
    }
   ],
   "source": [
    "import cognitive_face as CF\n",
    "import logging\n",
    "# logging.captureWarnings(True)\n",
    "\n",
    "KEY = '543b769e7f55400c9ef8cf67896ed6a4'  # Replace with a valid subscription key (keeping the quotes in place).\n",
    "CF.Key.set(KEY)\n",
    "\n",
    "BASE_URL = 'https://westcentralus.api.cognitive.microsoft.com/face/v1.0'  # Replace with your regional Base URL\n",
    "CF.BaseUrl.set(BASE_URL)\n",
    "\n",
    "# # You can use this example JPG or replace the URL below with your own URL to a JPEG image.\n",
    "# img_url = 'https://raw.githubusercontent.com/Microsoft/Cognitive-Face-Windows/master/Data/detection1.jpg'\n",
    "# faces = CF.face.detect(img_url)\n",
    "# print(faces)\n",
    "\n",
    "group_id = \"rabbits\"\n",
    "try:\n",
    "    CF.person_group.delete(group_id)\n",
    "except CF.CognitiveFaceException as e:\n",
    "    print(\"Group does not exist\")\n",
    "\n",
    "CF.person_group.create(group_id, \"White Lab Rabbits\")\n",
    "\n",
    "dad1 = CF.person.create(group_id, \"Dad 1\")['personId']\n",
    "\n",
    "# persons = CF.person.lists(group_id)\n",
    "# print(persons)\n",
    "\n",
    "img = \"Data/PersonGroup/Family1-Dad/Family1-Dad1.jpg\"\n",
    "dad1f1 = CF.person.add_face(img, group_id, dad1)['persistedFaceId']\n",
    "# print(dad1f1)\n",
    "\n",
    "CF.person_group.train(group_id)\n",
    "status = CF.person_group.get_status(group_id)\n",
    "print(status)"
   ]
  },
  {
   "cell_type": "code",
   "execution_count": 41,
   "metadata": {},
   "outputs": [
    {
     "name": "stdout",
     "output_type": "stream",
     "text": [
      "[{'faceId': 'ef131cc2-8a62-4d33-a566-2be998d7a5c5', 'faceRectangle': {'top': 202, 'left': 302, 'width': 113, 'height': 113}}, {'faceId': 'e3edff96-493e-4ef9-b868-00a5d849a7a1', 'faceRectangle': {'top': 238, 'left': 398, 'width': 91, 'height': 91}}, {'faceId': '93b0dc9e-ac41-4b58-ae36-6e05a545f36f', 'faceRectangle': {'top': 238, 'left': 495, 'width': 82, 'height': 82}}, {'faceId': '08fe2d2b-ad89-4e5f-bb3b-82c909328087', 'faceRectangle': {'top': 162, 'left': 211, 'width': 81, 'height': 81}}]\n"
     ]
    }
   ],
   "source": [
    "# status = CF.person_group.get_status(group_id)\n",
    "# print(status)\n",
    "\n",
    "img = \"Data/identification1.jpg\"\n",
    "faces = CF.face.detect(img)\n",
    "print(faces)"
   ]
  },
  {
   "cell_type": "code",
   "execution_count": 45,
   "metadata": {},
   "outputs": [
    {
     "name": "stdout",
     "output_type": "stream",
     "text": [
      "[{'faceId': 'ef131cc2-8a62-4d33-a566-2be998d7a5c5', 'candidates': [{'personId': '28248c75-4c9b-4945-9220-d238abcc76a6', 'confidence': 0.76658}]}, {'faceId': 'e3edff96-493e-4ef9-b868-00a5d849a7a1', 'candidates': []}, {'faceId': '93b0dc9e-ac41-4b58-ae36-6e05a545f36f', 'candidates': []}, {'faceId': '08fe2d2b-ad89-4e5f-bb3b-82c909328087', 'candidates': []}]\n"
     ]
    }
   ],
   "source": [
    "face_ids = [f['faceId'] for f in faces]\n",
    "\n",
    "results = CF.face.identify(face_ids, group_id)\n",
    "# print (results)"
   ]
  },
  {
   "cell_type": "code",
   "execution_count": 53,
   "metadata": {},
   "outputs": [
    {
     "name": "stdout",
     "output_type": "stream",
     "text": [
      "[[{'personId': '28248c75-4c9b-4945-9220-d238abcc76a6', 'confidence': 0.76658}], [], [], []]\n",
      "{'personId': '28248c75-4c9b-4945-9220-d238abcc76a6', 'persistedFaceIds': ['ed39ed93-89d6-4ba4-ae93-2ce13faf6d14'], 'name': 'Dad 1', 'userData': None}\n"
     ]
    }
   ],
   "source": [
    "candidates = [c['candidates'] for c in results]\n",
    "print(candidates)\n",
    "\n",
    "for c in candidates:\n",
    "    if len(c) > 0:\n",
    "        f_id = c[0]['personId']\n",
    "        p = CF.person.get(group_id, f_id)\n",
    "        print(p)"
   ]
  }
 ],
 "metadata": {
  "kernelspec": {
   "display_name": "Python 3",
   "language": "python",
   "name": "python3"
  },
  "language_info": {
   "codemirror_mode": {
    "name": "ipython",
    "version": 3
   },
   "file_extension": ".py",
   "mimetype": "text/x-python",
   "name": "python",
   "nbconvert_exporter": "python",
   "pygments_lexer": "ipython3",
   "version": "3.6.4"
  }
 },
 "nbformat": 4,
 "nbformat_minor": 2
}
