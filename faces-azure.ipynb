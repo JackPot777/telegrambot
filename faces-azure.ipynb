{
 "cells": [
  {
   "cell_type": "code",
   "execution_count": 6,
   "metadata": {},
   "outputs": [
    {
     "name": "stdout",
     "output_type": "stream",
     "text": [
      "[{'faceId': '5a22cdd5-eb8f-4bba-84f2-3adee0139368', 'faceRectangle': {'top': 124, 'left': 459, 'width': 227, 'height': 227}}]\n"
     ]
    }
   ],
   "source": [
    "import cognitive_face as CF\n",
    "import logging\n",
    "logging.captureWarnings(True)\n",
    "\n",
    "KEY = '543b769e7f55400c9ef8cf67896ed6a4'  # Replace with a valid subscription key (keeping the quotes in place).\n",
    "CF.Key.set(KEY)\n",
    "\n",
    "BASE_URL = 'https://westcentralus.api.cognitive.microsoft.com/face/v1.0'  # Replace with your regional Base URL\n",
    "CF.BaseUrl.set(BASE_URL)\n",
    "\n",
    "# You can use this example JPG or replace the URL below with your own URL to a JPEG image.\n",
    "img_url = 'https://raw.githubusercontent.com/Microsoft/Cognitive-Face-Windows/master/Data/detection1.jpg'\n",
    "faces = CF.face.detect(img_url)\n",
    "print(faces)"
   ]
  },
  {
   "cell_type": "code",
   "execution_count": null,
   "metadata": {},
   "outputs": [],
   "source": []
  }
 ],
 "metadata": {
  "kernelspec": {
   "display_name": "Python 3",
   "language": "python",
   "name": "python3"
  },
  "language_info": {
   "codemirror_mode": {
    "name": "ipython",
    "version": 3
   },
   "file_extension": ".py",
   "mimetype": "text/x-python",
   "name": "python",
   "nbconvert_exporter": "python",
   "pygments_lexer": "ipython3",
   "version": "3.6.4"
  }
 },
 "nbformat": 4,
 "nbformat_minor": 2
}
